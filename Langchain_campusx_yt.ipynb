{
  "nbformat": 4,
  "nbformat_minor": 0,
  "metadata": {
    "colab": {
      "provenance": [],
      "authorship_tag": "ABX9TyMgV7Q19mIJ4OHpYrtFSHxx",
      "include_colab_link": true
    },
    "kernelspec": {
      "name": "python3",
      "display_name": "Python 3"
    },
    "language_info": {
      "name": "python"
    }
  },
  "cells": [
    {
      "cell_type": "markdown",
      "metadata": {
        "id": "view-in-github",
        "colab_type": "text"
      },
      "source": [
        "<a href=\"https://colab.research.google.com/github/Upeshjeengar/Gen-AI/blob/master/Langchain_campusx_yt.ipynb\" target=\"_parent\"><img src=\"https://colab.research.google.com/assets/colab-badge.svg\" alt=\"Open In Colab\"/></a>"
      ]
    },
    {
      "cell_type": "markdown",
      "source": [
        "**6 components of Langchain:**\n",
        "1. Model(Core interfaces through which you interact with AI Models)\n",
        "2. Prompts\n",
        "3. Chains(Help in creating LLM pipelines)\n",
        "4. Memory\n",
        "5. Indexes\n",
        "6. Agents\n"
      ],
      "metadata": {
        "id": "N2gfC2agaa71"
      }
    },
    {
      "cell_type": "code",
      "execution_count": 6,
      "metadata": {
        "colab": {
          "base_uri": "https://localhost:8080/"
        },
        "id": "BCim3YKbaSDl",
        "outputId": "ffc7d9bd-2ba4-422c-b05a-a3250e4dd56e"
      },
      "outputs": [
        {
          "output_type": "stream",
          "name": "stdout",
          "text": [
            "Summarize Cricket in funny tone\n",
            "Summarize Networking in professional tone\n"
          ]
        }
      ],
      "source": [
        "#Langchain prompts\n",
        "# 1. Dynamic and Reusable prompts\n",
        "from langchain_core.prompts import PromptTemplate\n",
        "\n",
        "prompt = PromptTemplate.from_template('Summarize {topic} in {emotion} tone')\n",
        "\n",
        "print(prompt.format(topic='Cricket',emotion='funny',length='fun'))\n",
        "print(prompt.format(topic='Networking',emotion='professional',length='fun'))"
      ]
    },
    {
      "cell_type": "code",
      "source": [
        "# 2. Role based prompts\n",
        "from langchain_core.prompts import ChatPromptTemplate\n",
        "\n",
        "chat_prompt = ChatPromptTemplate.from_template([\n",
        "    (\"System\",\"Hi you are a experienced {profession}\"),\n",
        "    (\"User\",\"Tell me about {topic}\"),\n",
        "])\n",
        "\n",
        "# 3. Few shot prompting(using examples)\n",
        "# https://python.langchain.com/docs/how_to/few_shot_examples/"
      ],
      "metadata": {
        "id": "7sTm4K1oaeOG"
      },
      "execution_count": 11,
      "outputs": []
    },
    {
      "cell_type": "code",
      "source": [],
      "metadata": {
        "id": "s2QzNt1Mia0Z"
      },
      "execution_count": null,
      "outputs": []
    }
  ]
}